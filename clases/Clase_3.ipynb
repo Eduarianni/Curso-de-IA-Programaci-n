{
  "nbformat": 4,
  "nbformat_minor": 0,
  "metadata": {
    "colab": {
      "provenance": [],
      "authorship_tag": "ABX9TyPnxor3jyESk66wJ3htOM3i",
      "include_colab_link": true
    },
    "kernelspec": {
      "name": "python3",
      "display_name": "Python 3"
    },
    "language_info": {
      "name": "python"
    }
  },
  "cells": [
    {
      "cell_type": "markdown",
      "metadata": {
        "id": "view-in-github",
        "colab_type": "text"
      },
      "source": [
        "<a href=\"https://colab.research.google.com/github/Eduarianni/Curso-de-IA-Programaci-n/blob/main/clases/Clase_3.ipynb\" target=\"_parent\"><img src=\"https://colab.research.google.com/assets/colab-badge.svg\" alt=\"Open In Colab\"/></a>"
      ]
    },
    {
      "cell_type": "code",
      "execution_count": null,
      "metadata": {
        "colab": {
          "base_uri": "https://localhost:8080/"
        },
        "id": "rmY1vNZJcy-6",
        "outputId": "c77a3888-4e63-45e4-c8d6-34b2865e95da"
      },
      "outputs": [
        {
          "output_type": "stream",
          "name": "stdout",
          "text": [
            "ingrese el nombreEduardo \n",
            "ingrese la edad55\n",
            "hola.soyEduardo y tengo55años.\n"
          ]
        }
      ],
      "source": [
        "'''\n",
        "cadenas formateadas\n",
        "'''\n",
        "#ejercicio 1\n",
        "#pedir al usuario su nombre y su edad\n",
        "nombre = input(\"ingrese el nombre\")\n",
        "edad = input(\"ingrese la edad\")\n",
        "print(\"hola.soy\"+nombre+\"y tengo\"+edad+\"años.\")"
      ]
    },
    {
      "cell_type": "code",
      "source": [
        "#ahora con cadena formateada\n",
        "nombre = print(f\"hola. soy {nombre} y tengo {edad} años.\")"
      ],
      "metadata": {
        "colab": {
          "base_uri": "https://localhost:8080/"
        },
        "id": "ArN7W-wHhxG0",
        "outputId": "94eac635-7cc3-4cb0-8874-d6baa5196715"
      },
      "execution_count": null,
      "outputs": [
        {
          "output_type": "stream",
          "name": "stdout",
          "text": [
            "hola. soy Eduardo  y tengo 55 años.\n"
          ]
        }
      ]
    },
    {
      "cell_type": "code",
      "source": [
        "#un menú. Entrada, plato principal y postre.\n",
        "entrada = input(\"ingrese entrada\")\n",
        "platoprincipal = input(\"ingrese plato principal\")\n",
        "postre = input(\"ingrese postre\")\n",
        "print(f\"tu menú es {entrada} luego un plato principal de {platoprincipal} y de final {postre}\")"
      ],
      "metadata": {
        "colab": {
          "base_uri": "https://localhost:8080/"
        },
        "id": "JvERQIH2jJFD",
        "outputId": "59645aaf-8b6f-4e8a-e954-20240fd7bec5"
      },
      "execution_count": null,
      "outputs": [
        {
          "output_type": "stream",
          "name": "stdout",
          "text": [
            "ingrese entradabastón gustav\n",
            "ingrese plato principalcodos a la vinashiff\n",
            "ingrese postrevigilante de mar del plata y gonzabrillo\n",
            "tu menú es bastón gustav luego un plato principal de codos a la vinashiff y de final vigilante de mar del plata y gonzabrillo\n"
          ]
        }
      ]
    },
    {
      "cell_type": "code",
      "source": [
        "#cadena formateada con operaciones aritméticas\n",
        "#pedirle al usuario dos números\n",
        "a = int(input(\"ingrese el primer número\"))\n",
        "b = int(input(\"ingrese el segundo número\"))\n",
        "suma =a + b\n",
        "print(f\"la suma es:{suma}\")"
      ],
      "metadata": {
        "colab": {
          "base_uri": "https://localhost:8080/"
        },
        "id": "RIAVdbDFpkEI",
        "outputId": "776a345e-19ff-451b-ac55-b375c60cfa78"
      },
      "execution_count": null,
      "outputs": [
        {
          "output_type": "stream",
          "name": "stdout",
          "text": [
            "ingrese el primer número7\n",
            "ingrese el segundo número9\n",
            "la suma es:16\n"
          ]
        }
      ]
    }
  ]
}