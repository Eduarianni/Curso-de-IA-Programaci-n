{
  "nbformat": 4,
  "nbformat_minor": 0,
  "metadata": {
    "colab": {
      "provenance": [],
      "authorship_tag": "ABX9TyP92zxBFU307tw9FBEQT6Kj",
      "include_colab_link": true
    },
    "kernelspec": {
      "name": "python3",
      "display_name": "Python 3"
    },
    "language_info": {
      "name": "python"
    }
  },
  "cells": [
    {
      "cell_type": "markdown",
      "metadata": {
        "id": "view-in-github",
        "colab_type": "text"
      },
      "source": [
        "<a href=\"https://colab.research.google.com/github/Eduarianni/Curso-de-IA-Programaci-n/blob/main/clase/clase2.ipynb\" target=\"_parent\"><img src=\"https://colab.research.google.com/assets/colab-badge.svg\" alt=\"Open In Colab\"/></a>"
      ]
    },
    {
      "cell_type": "code",
      "execution_count": null,
      "metadata": {
        "colab": {
          "base_uri": "https://localhost:8080/",
          "height": 36
        },
        "id": "DWFiHrn1LT1x",
        "outputId": "09fd6826-b4cc-4ab0-a1d9-c1cd33864e8f"
      },
      "outputs": [
        {
          "output_type": "execute_result",
          "data": {
            "text/plain": [
              "'\\nEjercicio 1\\nUso de print\\n'"
            ],
            "application/vnd.google.colaboratory.intrinsic+json": {
              "type": "string"
            }
          },
          "metadata": {},
          "execution_count": 1
        }
      ],
      "source": [
        "'''\n",
        "Ejercicio 1\n",
        "Uso de print\n",
        "'''"
      ]
    },
    {
      "cell_type": "code",
      "source": [
        "(\"Helou toquete\")"
      ],
      "metadata": {
        "colab": {
          "base_uri": "https://localhost:8080/",
          "height": 36
        },
        "id": "ysZhJuS4MjCn",
        "outputId": "e7555304-6d9a-4a12-8fb9-57d2c8b5b0aa"
      },
      "execution_count": null,
      "outputs": [
        {
          "output_type": "execute_result",
          "data": {
            "text/plain": [
              "'Helou toquete'"
            ],
            "application/vnd.google.colaboratory.intrinsic+json": {
              "type": "string"
            }
          },
          "metadata": {},
          "execution_count": 2
        }
      ]
    },
    {
      "cell_type": "code",
      "source": [
        "'''\n",
        "ejercicio 2\n",
        "uso del input\n",
        "'''\n",
        "\n",
        "\n",
        "# pido el nombre al usuario\n",
        "nombre = input(\"ingrese su nombre\")\n",
        "# presento en pantalla el nombre\n",
        "print(\"hola \" + nombre)"
      ],
      "metadata": {
        "colab": {
          "base_uri": "https://localhost:8080/"
        },
        "id": "gMFUDvIwMuEM",
        "outputId": "777d47ee-a32e-46d1-cb86-07b443b29569"
      },
      "execution_count": null,
      "outputs": [
        {
          "output_type": "stream",
          "name": "stdout",
          "text": [
            "ingrese su nombreMalena\n",
            "hola Malena\n"
          ]
        }
      ]
    },
    {
      "cell_type": "code",
      "source": [
        "'''\n",
        "ejercicio 4\n",
        "\"crear un programa que le pida el nombre y la edad del usuario y lo muestre en la pantalla\"\n",
        "'''\n",
        "nombre = input (\"ingrese su nombre\")\n",
        "edad = input (\"ingrese su edad\")\n",
        "\n",
        "(\"tu nombre es:\"+nombre+\"tu edad es:\" +edad)"
      ],
      "metadata": {
        "id": "d-HudnnPR88Z",
        "colab": {
          "base_uri": "https://localhost:8080/",
          "height": 88
        },
        "outputId": "ce4cc270-badc-447c-a4e3-954de156c31b"
      },
      "execution_count": null,
      "outputs": [
        {
          "name": "stdout",
          "output_type": "stream",
          "text": [
            "ingrese su nombreEduardo \n",
            "ingrese su edad25\n"
          ]
        },
        {
          "output_type": "execute_result",
          "data": {
            "text/plain": [
              "'tu nombre es:Eduardo tu edad es:25'"
            ],
            "application/vnd.google.colaboratory.intrinsic+json": {
              "type": "string"
            }
          },
          "metadata": {},
          "execution_count": 16
        }
      ]
    }
  ]
}